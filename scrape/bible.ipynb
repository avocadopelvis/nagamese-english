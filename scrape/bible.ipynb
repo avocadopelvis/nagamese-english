{
  "nbformat": 4,
  "nbformat_minor": 0,
  "metadata": {
    "colab": {
      "provenance": [],
      "mount_file_id": "1ERyNWVFmKyEUBMVGHRow-KzD25AajLT-",
      "authorship_tag": "ABX9TyPJj+Ot1ToHWz53u1C/AIPZ",
      "include_colab_link": true
    },
    "kernelspec": {
      "name": "python3",
      "display_name": "Python 3"
    },
    "language_info": {
      "name": "python"
    }
  },
  "cells": [
    {
      "cell_type": "markdown",
      "metadata": {
        "id": "view-in-github",
        "colab_type": "text"
      },
      "source": [
        "<a href=\"https://colab.research.google.com/github/avocadopelvis/nagamese-english/blob/main/scrape/bible.ipynb\" target=\"_parent\"><img src=\"https://colab.research.google.com/assets/colab-badge.svg\" alt=\"Open In Colab\"/></a>"
      ]
    },
    {
      "cell_type": "code",
      "execution_count": null,
      "metadata": {
        "id": "RxK_ir2P101l"
      },
      "outputs": [],
      "source": [
        "# load libraries\n",
        "import requests\n",
        "from bs4 import BeautifulSoup as bs\n",
        "\n",
        "import csv\n",
        "from itertools import zip_longest\n",
        "\n",
        "import re\n",
        "import pandas as pd"
      ]
    },
    {
      "cell_type": "code",
      "source": [
        "# load webpage content\n",
        "naga = requests.get(\"https://cdn.door43.org/u/Door43-Catalog/nag_isv/master/print_all.html\")\n",
        "eng = requests.get(\"https://cdn.door43.org/u/WycliffeAssociates/en_ulb/3fe47367e0/print_all.html\")\n",
        "\n",
        "# convert to a beautiful soup object\n",
        "soup_naga = bs(naga.content)\n",
        "soup_eng = bs(eng.content)\n",
        "\n",
        "# print(soup.prettify())"
      ],
      "metadata": {
        "id": "5ezFehusTPjs"
      },
      "execution_count": null,
      "outputs": []
    },
    {
      "cell_type": "code",
      "source": [
        "# get text from a book\n",
        "def text(soup, div):\n",
        "  # soup: beautiful soup object\n",
        "  # div: div id of the book | pass as string\n",
        "  book = soup.find(\"div\", attrs = {\"id\": div})\n",
        "\n",
        "  # Remove text between heading tags\n",
        "  for heading_tag in book.find_all(['h1', 'h2', 'h3', 'h4', 'h5', 'h6']):\n",
        "      if heading_tag.string:\n",
        "          heading_tag.string.extract()\n",
        "\n",
        "  # Remove all div elements with class=\"footnotes\"\n",
        "  footnotes = book.find_all('div', class_='footnotes')\n",
        "  for footnote in footnotes:\n",
        "      footnote.decompose()\n",
        "\n",
        "  # Extract remaining text\n",
        "  text = book.get_text(separator=' ')\n",
        "\n",
        "  # Replace consecutive whitespace characters with a single space\n",
        "  text = re.sub(r'\\s+', ' ', text)\n",
        "\n",
        "  # Remove square brackets and anything between them\n",
        "  text = re.sub(r'\\[[^\\]]*\\]', '', text)\n",
        "\n",
        "  output = text.strip()\n",
        "\n",
        "  return output\n",
        "\n",
        "# splits the corpus based on verse number\n",
        "def split_corpus(corpus):\n",
        "  # corpus: body of text\n",
        "\n",
        "  # split the text into sentences when encountering a number\n",
        "  sentences = re.split(r'\\d+', corpus)\n",
        "\n",
        "  # remove any empty sentences and leading/trailing whitespaces\n",
        "  sentences = [sentence.strip() for sentence in sentences if sentence.strip()]\n",
        "\n",
        "  return sentences\n",
        "\n",
        "# save eng-naga text as csv\n",
        "def save_csv(path, header, eng_verses, naga_verses):\n",
        "  # path: file path | pass as string\n",
        "  # header: names of the column header | pass as list containing headers\n",
        "  with open(path, \"w\", newline=\"\") as file:\n",
        "      writer = csv.writer(file)\n",
        "\n",
        "      # Write the header row\n",
        "      writer.writerow(header)\n",
        "\n",
        "      # Iterate over the lists and write each row\n",
        "      for item1, item2 in zip_longest(eng_verses, naga_verses, fillvalue = \"\"):\n",
        "          writer.writerow([item1, item2])\n",
        "\n",
        "      return print(\"CSV file created successfully.\")"
      ],
      "metadata": {
        "id": "zGFLpoxg2QoW"
      },
      "execution_count": null,
      "outputs": []
    },
    {
      "cell_type": "code",
      "source": [
        "# get div names\n",
        "divs = soup_naga.find_all(\"div\", id = lambda value: value and '.html' in value)\n",
        "id_names = [div['id'] for div in divs]\n",
        "\n",
        "print(id_names)\n",
        "print(len(id_names))"
      ],
      "metadata": {
        "colab": {
          "base_uri": "https://localhost:8080/"
        },
        "id": "OkRHdmNiBKUb",
        "outputId": "cae58b57-b98c-4321-fdf6-03a56b7717de"
      },
      "execution_count": null,
      "outputs": [
        {
          "output_type": "stream",
          "name": "stdout",
          "text": [
            "['41-MAT.html', '42-MRK.html', '43-LUK.html', '44-JHN.html', '45-ACT.html', '46-ROM.html', '47-1CO.html', '48-2CO.html', '49-GAL.html', '50-EPH.html', '51-PHP.html', '52-COL.html', '53-1TH.html', '54-2TH.html', '55-1TI.html', '56-2TI.html', '57-TIT.html', '58-PHM.html', '59-HEB.html', '60-JAS.html', '61-1PE.html', '62-2PE.html', '63-1JN.html', '64-2JN.html', '65-3JN.html', '66-JUD.html', '67-REV.html']\n",
            "27\n"
          ]
        }
      ]
    },
    {
      "cell_type": "markdown",
      "source": [
        "The new testament contains 27 books."
      ],
      "metadata": {
        "id": "6kvsx689YGcx"
      }
    },
    {
      "cell_type": "code",
      "source": [
        "div = '48-2CO.html'\n",
        "eng = text(soup_eng, div)\n",
        "naga = text(soup_naga, div)\n",
        "\n",
        "eng_verses = split_corpus(eng)\n",
        "naga_verses = split_corpus(naga)\n",
        "\n",
        "print(len(eng_verses), len(naga_verses))\n",
        "\n",
        "# save corpus\n",
        "# with open(\"text.txt\", 'w') as file:\n",
        "#     file.write(eng)\n",
        "\n",
        "# save as csv\n",
        "filename = \"second-corinthians\"\n",
        "save_csv(f\"/content/drive/MyDrive/MTP/{filename}.csv\", [\"English\", \"Nagamese\"], eng_verses, naga_verses)"
      ],
      "metadata": {
        "id": "E__89Qze4lDM",
        "colab": {
          "base_uri": "https://localhost:8080/"
        },
        "outputId": "a6dc6cba-a5ba-4bb8-d1a2-28fdaa675eab"
      },
      "execution_count": null,
      "outputs": [
        {
          "output_type": "stream",
          "name": "stdout",
          "text": [
            "257 256\n",
            "CSV file created successfully.\n"
          ]
        }
      ]
    }
  ]
}